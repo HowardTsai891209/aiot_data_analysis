{
 "cells": [
  {
   "cell_type": "code",
   "execution_count": 1,
   "metadata": {},
   "outputs": [],
   "source": [
    "import tensorflow as tf\n",
    "from tensorflow.keras.applications import VGG16\n",
    "from tensorflow.keras.models import Model\n",
    "from tensorflow.keras.layers import Dense, Flatten, Dropout\n",
    "from tensorflow.keras.preprocessing.image import ImageDataGenerator\n",
    "import numpy as np\n",
    "import requests\n",
    "from PIL import Image, ImageTk\n",
    "import io\n",
    "import tkinter as tk\n",
    "from tkinter import simpledialog"
   ]
  },
  {
   "cell_type": "code",
   "execution_count": 2,
   "metadata": {},
   "outputs": [],
   "source": [
    "# 建立 VGG16 預訓練模型，不包含頂層\n",
    "base_model = VGG16(weights='imagenet', include_top=False, input_shape=(224, 224, 3))\n",
    "\n",
    "# 凍結預訓練模型的卷積層\n",
    "for layer in base_model.layers:\n",
    "    layer.trainable = False\n",
    "\n",
    "# 添加自定義頂層進行二分類\n",
    "x = Flatten()(base_model.output)\n",
    "x = Dense(512, activation='relu')(x)\n",
    "x = Dropout(0.5)(x)\n",
    "output = Dense(2, activation='softmax')(x)"
   ]
  },
  {
   "cell_type": "code",
   "execution_count": 5,
   "metadata": {},
   "outputs": [
    {
     "name": "stdout",
     "output_type": "stream",
     "text": [
      "Model: \"model_1\"\n",
      "_________________________________________________________________\n",
      " Layer (type)                Output Shape              Param #   \n",
      "=================================================================\n",
      " input_1 (InputLayer)        [(None, 224, 224, 3)]     0         \n",
      "                                                                 \n",
      " block1_conv1 (Conv2D)       (None, 224, 224, 64)      1792      \n",
      "                                                                 \n",
      " block1_conv2 (Conv2D)       (None, 224, 224, 64)      36928     \n",
      "                                                                 \n",
      " block1_pool (MaxPooling2D)  (None, 112, 112, 64)      0         \n",
      "                                                                 \n",
      " block2_conv1 (Conv2D)       (None, 112, 112, 128)     73856     \n",
      "                                                                 \n",
      " block2_conv2 (Conv2D)       (None, 112, 112, 128)     147584    \n",
      "                                                                 \n",
      " block2_pool (MaxPooling2D)  (None, 56, 56, 128)       0         \n",
      "                                                                 \n",
      " block3_conv1 (Conv2D)       (None, 56, 56, 256)       295168    \n",
      "                                                                 \n",
      " block3_conv2 (Conv2D)       (None, 56, 56, 256)       590080    \n",
      "                                                                 \n",
      " block3_conv3 (Conv2D)       (None, 56, 56, 256)       590080    \n",
      "                                                                 \n",
      " block3_pool (MaxPooling2D)  (None, 28, 28, 256)       0         \n",
      "                                                                 \n",
      " block4_conv1 (Conv2D)       (None, 28, 28, 512)       1180160   \n",
      "                                                                 \n",
      " block4_conv2 (Conv2D)       (None, 28, 28, 512)       2359808   \n",
      "                                                                 \n",
      " block4_conv3 (Conv2D)       (None, 28, 28, 512)       2359808   \n",
      "                                                                 \n",
      " block4_pool (MaxPooling2D)  (None, 14, 14, 512)       0         \n",
      "                                                                 \n",
      " block5_conv1 (Conv2D)       (None, 14, 14, 512)       2359808   \n",
      "                                                                 \n",
      " block5_conv2 (Conv2D)       (None, 14, 14, 512)       2359808   \n",
      "                                                                 \n",
      " block5_conv3 (Conv2D)       (None, 14, 14, 512)       2359808   \n",
      "                                                                 \n",
      " block5_pool (MaxPooling2D)  (None, 7, 7, 512)         0         \n",
      "                                                                 \n",
      " flatten (Flatten)           (None, 25088)             0         \n",
      "                                                                 \n",
      " dense (Dense)               (None, 512)               12845568  \n",
      "                                                                 \n",
      " dropout (Dropout)           (None, 512)               0         \n",
      "                                                                 \n",
      " dense_1 (Dense)             (None, 2)                 1026      \n",
      "                                                                 \n",
      "=================================================================\n",
      "Total params: 27,561,282\n",
      "Trainable params: 12,846,594\n",
      "Non-trainable params: 14,714,688\n",
      "_________________________________________________________________\n"
     ]
    }
   ],
   "source": [
    "# 建立完整模型\n",
    "model = Model(inputs=base_model.input, outputs=output)\n",
    "model.compile(optimizer='adam', loss='categorical_crossentropy', metrics=['accuracy'])\n",
    "# 模型摘要\n",
    "model.summary()"
   ]
  },
  {
   "cell_type": "code",
   "execution_count": 6,
   "metadata": {},
   "outputs": [
    {
     "name": "stdout",
     "output_type": "stream",
     "text": [
      "Found 3274 images belonging to 2 classes.\n",
      "Found 818 images belonging to 2 classes.\n"
     ]
    }
   ],
   "source": [
    "# 訓練數據集設置\n",
    "train_datagen = ImageDataGenerator(\n",
    "    rescale=1./255,\n",
    "    shear_range=0.2,\n",
    "    zoom_range=0.2,\n",
    "    horizontal_flip=True,\n",
    "    validation_split=0.2)\n",
    "\n",
    "train_dataset = train_datagen.flow_from_directory(\n",
    "    'dataset',\n",
    "    target_size=(224, 224),\n",
    "    batch_size=32,\n",
    "    class_mode='categorical',\n",
    "    subset='training')\n",
    "\n",
    "validation_dataset = train_datagen.flow_from_directory(\n",
    "    'dataset',\n",
    "    target_size=(224, 224),\n",
    "    batch_size=32,\n",
    "    class_mode='categorical',\n",
    "    subset='validation')"
   ]
  },
  {
   "cell_type": "code",
   "execution_count": 7,
   "metadata": {},
   "outputs": [
    {
     "name": "stdout",
     "output_type": "stream",
     "text": [
      "Epoch 1/10\n",
      " 23/103 [=====>........................] - ETA: 45s - loss: 2.6491 - accuracy: 0.7073"
     ]
    },
    {
     "name": "stderr",
     "output_type": "stream",
     "text": [
      "c:\\Users\\tsai\\Desktop\\aiot_data_analysis\\tensorflow_gpu_env\\lib\\site-packages\\PIL\\Image.py:1054: UserWarning: Palette images with Transparency expressed in bytes should be converted to RGBA images\n",
      "  warnings.warn(\n"
     ]
    },
    {
     "name": "stdout",
     "output_type": "stream",
     "text": [
      "103/103 [==============================] - 76s 695ms/step - loss: 0.7035 - accuracy: 0.8913 - val_loss: 0.0801 - val_accuracy: 0.9731\n",
      "Epoch 2/10\n",
      "103/103 [==============================] - 39s 380ms/step - loss: 0.0944 - accuracy: 0.9633 - val_loss: 0.0533 - val_accuracy: 0.9817\n",
      "Epoch 3/10\n",
      "103/103 [==============================] - 43s 413ms/step - loss: 0.0627 - accuracy: 0.9792 - val_loss: 0.0962 - val_accuracy: 0.9682\n",
      "Epoch 4/10\n",
      "103/103 [==============================] - 41s 399ms/step - loss: 0.0572 - accuracy: 0.9805 - val_loss: 0.0691 - val_accuracy: 0.9743\n",
      "Epoch 5/10\n",
      "103/103 [==============================] - 41s 396ms/step - loss: 0.0616 - accuracy: 0.9783 - val_loss: 0.0359 - val_accuracy: 0.9866\n",
      "Epoch 6/10\n",
      "103/103 [==============================] - 41s 400ms/step - loss: 0.0623 - accuracy: 0.9774 - val_loss: 0.0375 - val_accuracy: 0.9866\n",
      "Epoch 7/10\n",
      "103/103 [==============================] - 41s 398ms/step - loss: 0.0559 - accuracy: 0.9792 - val_loss: 0.0373 - val_accuracy: 0.9878\n",
      "Epoch 8/10\n",
      "103/103 [==============================] - 41s 397ms/step - loss: 0.0388 - accuracy: 0.9859 - val_loss: 0.0482 - val_accuracy: 0.9817\n",
      "Epoch 9/10\n",
      "103/103 [==============================] - 41s 396ms/step - loss: 0.0368 - accuracy: 0.9875 - val_loss: 0.0471 - val_accuracy: 0.9853\n",
      "Epoch 10/10\n",
      "103/103 [==============================] - 41s 399ms/step - loss: 0.0364 - accuracy: 0.9872 - val_loss: 0.0314 - val_accuracy: 0.9890\n"
     ]
    },
    {
     "data": {
      "text/plain": [
       "<keras.callbacks.History at 0x23725451d90>"
      ]
     },
     "execution_count": 7,
     "metadata": {},
     "output_type": "execute_result"
    }
   ],
   "source": [
    "# 訓練模型\n",
    "model.fit(\n",
    "    train_dataset,\n",
    "    epochs=10,\n",
    "    validation_data=validation_dataset)"
   ]
  },
  {
   "cell_type": "code",
   "execution_count": 44,
   "metadata": {},
   "outputs": [],
   "source": [
    "# 定義函數從 URL 加載圖像並進行預處理\n",
    "def load_image_from_url(url):\n",
    "    response = requests.get(url)\n",
    "    image = Image.open(io.BytesIO(response.content)).convert('RGB')\n",
    "    image = image.resize((224, 224))\n",
    "    return image\n",
    "\n",
    "# 定義分類函數\n",
    "def test_image(image_url, model, class_names):\n",
    "    image = load_image_from_url(image_url)\n",
    "    image_array = np.array(image) / 255.0  # 正規化\n",
    "    image_array = np.expand_dims(image_array, axis=0)  # 增加批次維度\n",
    "    predictions = model.predict(image_array)\n",
    "    predicted_class = list(class_names.keys())[np.argmax(predictions)]\n",
    "    return predicted_class, image  # 返回分類結果與PIL圖像"
   ]
  },
  {
   "cell_type": "code",
   "execution_count": 45,
   "metadata": {},
   "outputs": [],
   "source": [
    "# GUI 應用程式設置\n",
    "class App:\n",
    "    def __init__(self, root):\n",
    "        self.root = root\n",
    "        self.root.title(\"Image Classification with VGG16\")\n",
    "        self.root.geometry(\"600x600\")\n",
    "\n",
    "        self.label = tk.Label(root, text=\"Enter image URL:\")\n",
    "        self.label.pack(pady=10)\n",
    "\n",
    "        self.url_entry = tk.Entry(root, width=50)\n",
    "        self.url_entry.pack(pady=10)\n",
    "\n",
    "        self.classify_button = tk.Button(root, text=\"Classify Image\", command=self.classify_image)\n",
    "        self.classify_button.pack(pady=10)\n",
    "\n",
    "        self.result_label = tk.Label(root, text=\"\", font=(\"Helvetica\", 16))\n",
    "        self.result_label.pack(pady=10)\n",
    "\n",
    "        self.image_label = tk.Label(root)\n",
    "        self.image_label.pack(pady=10)\n",
    "\n",
    "    def classify_image(self):\n",
    "        image_url = self.url_entry.get()\n",
    "        predicted_class, display_image = test_image(image_url, model, train_dataset.class_indices)\n",
    "        \n",
    "        # 更新分類結果\n",
    "        self.result_label.config(text=f\"Predicted Class: {predicted_class}\")\n",
    "        \n",
    "        # 顯示圖片\n",
    "        display_image = ImageTk.PhotoImage(display_image)\n",
    "        self.image_label.config(image=display_image)\n",
    "        self.image_label.image = display_image  # 保存對象的參考"
   ]
  },
  {
   "cell_type": "code",
   "execution_count": 46,
   "metadata": {},
   "outputs": [],
   "source": [
    "# 創建主視窗\n",
    "root = tk.Tk()\n",
    "app = App(root)\n",
    "root.mainloop()"
   ]
  },
  {
   "cell_type": "code",
   "execution_count": null,
   "metadata": {},
   "outputs": [],
   "source": []
  },
  {
   "cell_type": "code",
   "execution_count": null,
   "metadata": {},
   "outputs": [],
   "source": []
  },
  {
   "cell_type": "code",
   "execution_count": null,
   "metadata": {},
   "outputs": [],
   "source": []
  }
 ],
 "metadata": {
  "kernelspec": {
   "display_name": "tensorflow_gpu_env",
   "language": "python",
   "name": "python3"
  },
  "language_info": {
   "codemirror_mode": {
    "name": "ipython",
    "version": 3
   },
   "file_extension": ".py",
   "mimetype": "text/x-python",
   "name": "python",
   "nbconvert_exporter": "python",
   "pygments_lexer": "ipython3",
   "version": "3.9.0"
  }
 },
 "nbformat": 4,
 "nbformat_minor": 0
}
